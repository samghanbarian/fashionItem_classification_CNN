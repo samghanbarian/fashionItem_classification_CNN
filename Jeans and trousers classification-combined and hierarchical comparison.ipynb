{
 "cells": [
  {
   "cell_type": "code",
   "execution_count": 3,
   "metadata": {},
   "outputs": [],
   "source": [
    "import numpy as np\n",
    "import tensorflow as tf"
   ]
  },
  {
   "cell_type": "code",
   "execution_count": 4,
   "metadata": {},
   "outputs": [],
   "source": [
    "#loading the test data\n",
    "test_data = np.load(r'datasets/Trousers & Jeans - All - Test.npz')"
   ]
  },
  {
   "cell_type": "code",
   "execution_count": 5,
   "metadata": {},
   "outputs": [],
   "source": [
    "#extracting image and label array\n",
    "test_images, test_gender = test_data['images'], test_data['genders']\n",
    "test_type = test_data['labels']%2"
   ]
  },
  {
   "cell_type": "code",
   "execution_count": 6,
   "metadata": {},
   "outputs": [],
   "source": [
    "test_images = test_images/255."
   ]
  },
  {
   "cell_type": "code",
   "execution_count": 10,
   "metadata": {},
   "outputs": [],
   "source": [
    "#loading the models\n",
    "#combined model\n",
    "model_combined = tf.keras.models.load_model(r'D:/sam/saved Models/Model 4/Run-3')\n",
    "\n",
    "#models of hierarchical\n",
    "model_gender = tf.keras.models.load_model(r'D:/sam/saved Models/Model 5/Run-1')\n",
    "model_male = tf.keras.models.load_model(r'D:/sam/saved Models/Model 7/Run-4')\n",
    "model_female = tf.keras.models.load_model(r'D:/sam/saved Models/Model 6/Run-2')"
   ]
  },
  {
   "cell_type": "code",
   "execution_count": 11,
   "metadata": {},
   "outputs": [],
   "source": [
    "#defining scores for both models\n",
    "score_combined = 0\n",
    "score_hierarchy = 0"
   ]
  },
  {
   "cell_type": "code",
   "execution_count": 12,
   "metadata": {},
   "outputs": [],
   "source": [
    "for i in range(len(test_images)):\n",
    "    \n",
    "    #obtaining the score for combined model\n",
    "    predict_combined = model_combined(test_images[i:i+1])\n",
    "    label_combined = np.argmax(predict_combined)\n",
    "    \n",
    "    if label_combined% 2 == test_type[i] : #correspond to type: jeans or trousers\n",
    "        score_combined += 1\n",
    "    if label_combined // 2 == test_gender[i]: #correspond to gender: male or female\n",
    "        score_combined += 1\n",
    "        \n",
    "     \n",
    "    #obtaining the score for hierarchical model\n",
    "    predict_gender = model_gender(test_images[i:i+1])\n",
    "    label_gender = np.argmax(predict_gender)\n",
    "    \n",
    "    if label_gender == test_gender[i]:\n",
    "        score_hierarchy += 1\n",
    "    \n",
    "    #evaluating the model male\n",
    "    if label_gender == 0:\n",
    "        predict_male = model_male(test_images[i:i+1])\n",
    "        label_type = np.argmax(predict_male)\n",
    "        \n",
    "        if label_type == test_type[i]:\n",
    "            score_hierarchy += 1\n",
    "    \n",
    "    #evaluating the model female\n",
    "    if label_gender == 1:\n",
    "        predict_female = model_female(test_images[i:i+1])\n",
    "        label_type = np.argmax(predict_female)\n",
    "        \n",
    "        if label_type == test_type[i]:\n",
    "            score_hierarchy += 1\n",
    "        "
   ]
  },
  {
   "cell_type": "code",
   "execution_count": 14,
   "metadata": {},
   "outputs": [
    {
     "name": "stdout",
     "output_type": "stream",
     "text": [
      "Combined Labels: \n",
      "870 points \n",
      " \n",
      "Hierarchical Classification: \n",
      "839 points\n"
     ]
    }
   ],
   "source": [
    "# Printing the scores\n",
    "print(\"Combined Labels: \\n{0} points \\n \\nHierarchical Classification: \\n{1} points\".format(score_combined,score_hierarchy))"
   ]
  },
  {
   "cell_type": "code",
   "execution_count": null,
   "metadata": {},
   "outputs": [],
   "source": []
  },
  {
   "cell_type": "code",
   "execution_count": null,
   "metadata": {},
   "outputs": [],
   "source": []
  },
  {
   "cell_type": "code",
   "execution_count": null,
   "metadata": {},
   "outputs": [],
   "source": []
  }
 ],
 "metadata": {
  "kernelspec": {
   "display_name": "Python 3",
   "language": "python",
   "name": "python3"
  },
  "language_info": {
   "codemirror_mode": {
    "name": "ipython",
    "version": 3
   },
   "file_extension": ".py",
   "mimetype": "text/x-python",
   "name": "python",
   "nbconvert_exporter": "python",
   "pygments_lexer": "ipython3",
   "version": "3.8.5"
  }
 },
 "nbformat": 4,
 "nbformat_minor": 4
}
