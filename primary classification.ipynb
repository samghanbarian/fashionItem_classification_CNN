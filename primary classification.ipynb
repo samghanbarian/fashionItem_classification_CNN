{
 "cells": [
  {
   "cell_type": "code",
   "execution_count": 1,
   "metadata": {},
   "outputs": [
    {
     "name": "stderr",
     "output_type": "stream",
     "text": [
      "<frozen importlib._bootstrap>:219: RuntimeWarning: numpy.ufunc size changed, may indicate binary incompatibility. Expected 192 from C header, got 216 from PyObject\n"
     ]
    }
   ],
   "source": [
    "#import relevant libraries\n",
    "import io\n",
    "import itertools\n",
    "\n",
    "import sklearn.metrics\n",
    "import numpy as np\n",
    "import matplotlib.pyplot as plt\n",
    "\n",
    "import tensorflow as tf\n",
    "from tensorboard.plugins.hparams import api as hp"
   ]
  },
  {
   "cell_type": "code",
   "execution_count": 3,
   "metadata": {},
   "outputs": [],
   "source": [
    "#loading the dataset\n",
    "train_data = np.load(r'datasets/Primary categories - Train.npz')\n",
    "test_data = np.load(r'datasets/Primary categories - Test.npz')\n",
    "val_data = np.load(r'datasets/Primary categories - Validation.npz')"
   ]
  },
  {
   "cell_type": "code",
   "execution_count": 9,
   "metadata": {},
   "outputs": [],
   "source": [
    "train_images, train_labels = train_data['images'], train_data['labels']\n",
    "val_images, val_labels = val_data['images'], val_data['labels']\n",
    "test_images, test_labels = test_data['images'], test_data['labels']"
   ]
  },
  {
   "cell_type": "code",
   "execution_count": 10,
   "metadata": {},
   "outputs": [],
   "source": [
    "#feature scaling\n",
    "train_images = train_images/255.\n",
    "val_images = val_images/255.\n",
    "test_images = test_images/255."
   ]
  },
  {
   "cell_type": "code",
   "execution_count": 11,
   "metadata": {},
   "outputs": [],
   "source": [
    "#constant definition\n",
    "NUM_EPOCHS = 15\n",
    "BATCH_SIZE = 64"
   ]
  },
  {
   "cell_type": "code",
   "execution_count": 12,
   "metadata": {},
   "outputs": [],
   "source": [
    "#hyperparam definition\n",
    "HP_FILTER_SIZE = hp.HParam('filter_size', hp.Discrete([3,5,7]))\n",
    "HP_NUM_FILTER = hp.HParam('filters_number', hp.Discrete([32,64,96,128]))\n",
    "\n",
    "METRIC_ACCURACY = 'accuracy'\n",
    "\n",
    "with tf.summary.create_file_writer(r'Logs/Model 1/hparam_tuning/').as_default():\n",
    "    hp.hparams_config(\n",
    "        hparams= [HP_FILTER_SIZE,HP_NUM_FILTER],\n",
    "        metrics = [hp.Metric(METRIC_ACCURACY,display_name='accuracy')]\n",
    "    )"
   ]
  },
  {
   "cell_type": "code",
   "execution_count": 23,
   "metadata": {},
   "outputs": [],
   "source": [
    "#model definition and training\n",
    "def train_test_model(hparams,session_num):\n",
    "    \n",
    "    #model outline\n",
    "    model = tf.keras.Sequential([\n",
    "        tf.keras.layers.Conv2D(hparams[HP_NUM_FILTER],hparams[HP_FILTER_SIZE], activation='relu', input_shape=(120,90,3)),\n",
    "        tf.keras.layers.MaxPooling2D(pool_size=(2,2)),\n",
    "        tf.keras.layers.Conv2D(hparams[HP_NUM_FILTER],3,activation='relu'),\n",
    "        tf.keras.layers.MaxPooling2D(pool_size=(2,2)),\n",
    "        tf.keras.layers.Flatten(),\n",
    "        tf.keras.layers.Dense(3)\n",
    "    ])\n",
    "    \n",
    "    \n",
    "    loss_fn = tf.keras.losses.SparseCategoricalCrossentropy(from_logits=True)\n",
    "    \n",
    "    model.compile(optimizer='adam', loss= loss_fn, metrics=['accuracy'])\n",
    "    \n",
    "    #defining the logging dir\n",
    "    log_dir = 'Logs\\\\Model 1\\\\fit\\\\'+'run-{}'.format(session_num)\n",
    "    \n",
    "    def plot_confusion_matrix(cm, class_names):\n",
    "        figure = plt.figure(figsize=(12, 12))\n",
    "        plt.imshow(cm, interpolation='nearest', cmap=plt.cm.Blues)\n",
    "        plt.title(\"Confusion matrix\")\n",
    "        plt.colorbar()\n",
    "        tick_marks = np.arange(len(class_names))\n",
    "        plt.xticks(tick_marks, class_names, rotation=45)\n",
    "        plt.yticks(tick_marks, class_names)\n",
    "\n",
    "        # Normalize the confusion matrix\n",
    "        cm = np.around(cm.astype('float') / cm.sum(axis=1)[:, np.newaxis], decimals=2)\n",
    "\n",
    "        # Use white text if squares are dark; otherwise black.\n",
    "        threshold = cm.max() / 2.\n",
    "        for i, j in itertools.product(range(cm.shape[0]), range(cm.shape[1])):\n",
    "            color = \"white\" if cm[i, j] > threshold else \"black\"\n",
    "            plt.text(j, i, cm[i, j], horizontalalignment=\"center\", color=color)\n",
    "\n",
    "        plt.tight_layout()\n",
    "        plt.ylabel('True label')\n",
    "        plt.xlabel('Predicted label') \n",
    "        return figure\n",
    "\n",
    "    def plot_to_image(figure):\n",
    "    \n",
    "        #save the plot to a png in memory\n",
    "        buf = io.BytesIO()\n",
    "        plt.savefig(buf, format='png')\n",
    "    \n",
    "        #closing the figure to prevent from displaying in the notebook\n",
    "        plt.close(figure)\n",
    "    \n",
    "        buf.seek(0)\n",
    "    \n",
    "        image = tf.image.decode_png(buf.getvalue(), channels=4)\n",
    "    \n",
    "        #add the batch dimension\n",
    "        image = tf.expand_dims(image, 0)\n",
    "    \n",
    "        return image\n",
    "\n",
    "    #file writer for logging cofusion matrix\n",
    "    file_writer_cm = tf.summary.create_file_writer(log_dir + '/cm')\n",
    "    \n",
    "    def log_confusion_matrix(epoch, logs):\n",
    "    #predict values for validation set\n",
    "        test_pred_r = model.predict(val_images)\n",
    "        test_pred = np.argmax(test_pred_r, axis=1)\n",
    "    \n",
    "        cm = sklearn.metrics.confusion_matrix(val_labels, test_pred)\n",
    "    \n",
    "        figure = plot_confusion_matrix(cm, class_names=['Glasses/Sunglasses', 'Trousers/Jeans', 'Shoes'])\n",
    "        cm_image = plot_to_image(figure)\n",
    "    \n",
    "        #log the confusion matrix as image summary\n",
    "        with file_writer_cm.as_default():\n",
    "            tf.summary.image('Confusion Matrix', cm_image, step=epoch)\n",
    "            \n",
    "    \n",
    "    \n",
    "    #defining callbacks\n",
    "    tensorboard_callback = tf.keras.callbacks.TensorBoard(log_dir=log_dir,histogram_freq = 1, profile_batch = 0)\n",
    "    cm_callback = tf.keras.callbacks.LambdaCallback(on_epoch_end= log_confusion_matrix)\n",
    "    early_stopping = tf.keras.callbacks.EarlyStopping(\n",
    "        monitor='val_loss',\n",
    "        mode = 'auto',\n",
    "        verbose=0,\n",
    "        patience = 2,\n",
    "        min_delta = 0,\n",
    "        restore_best_weights= True\n",
    "    )\n",
    "\n",
    "    \n",
    "    #training the model\n",
    "    model.fit(\n",
    "        train_images,\n",
    "        train_labels,\n",
    "        validation_data= (val_images,val_labels),\n",
    "        verbose=2,\n",
    "        epochs= NUM_EPOCHS,\n",
    "        batch_size = BATCH_SIZE,\n",
    "        callbacks=[tensorboard_callback,cm_callback,early_stopping]\n",
    "        \n",
    "    )\n",
    "    \n",
    "    #model performance evaluation\n",
    "    _, accuracy = model.evaluate(val_images,val_labels)\n",
    "    \n",
    "    #saving the model\n",
    "    model.save(r'saved Models\\Model 1\\Run-{}'.format(session_num))\n",
    "    \n",
    "    return accuracy\n",
    "    \n",
    "    \n",
    "    "
   ]
  },
  {
   "cell_type": "code",
   "execution_count": 24,
   "metadata": {},
   "outputs": [],
   "source": [
    "#logging the result function\n",
    "def run(log_dir, hparams, session_num):\n",
    "    \n",
    "    with tf.summary.create_file_writer(log_dir).as_default():\n",
    "        hp.hparams(hparams)  # record the values used in this trial\n",
    "        accuracy = train_test_model(hparams, session_num)\n",
    "        tf.summary.scalar(METRIC_ACCURACY, accuracy, step=1)\n"
   ]
  },
  {
   "cell_type": "code",
   "execution_count": 25,
   "metadata": {},
   "outputs": [
    {
     "name": "stdout",
     "output_type": "stream",
     "text": [
      "---- Starting trial : run-1\n",
      "{'filter_size': 3, 'filters_number': 32}\n",
      "Epoch 1/15\n",
      "203/203 - 56s - loss: 0.0814 - accuracy: 0.9737 - val_loss: 0.0062 - val_accuracy: 0.9988\n",
      "Epoch 2/15\n",
      "203/203 - 58s - loss: 0.0115 - accuracy: 0.9987 - val_loss: 0.0060 - val_accuracy: 0.9994\n",
      "Epoch 3/15\n",
      "203/203 - 55s - loss: 0.0070 - accuracy: 0.9995 - val_loss: 0.0020 - val_accuracy: 0.9994\n",
      "Epoch 4/15\n",
      "203/203 - 55s - loss: 0.0064 - accuracy: 0.9988 - val_loss: 0.0025 - val_accuracy: 0.9994\n",
      "Epoch 5/15\n",
      "203/203 - 58s - loss: 0.0055 - accuracy: 0.9992 - val_loss: 0.0266 - val_accuracy: 0.9938\n",
      "51/51 [==============================] - 2s 36ms/step - loss: 0.0020 - accuracy: 0.9994\n",
      "INFO:tensorflow:Assets written to: saved Models\\Model 1\\Run-1\\assets\n",
      "---- Starting trial : run-2\n",
      "{'filter_size': 3, 'filters_number': 64}\n",
      "Epoch 1/15\n",
      "203/203 - 119s - loss: 0.0858 - accuracy: 0.9755 - val_loss: 0.0092 - val_accuracy: 0.9994\n",
      "Epoch 2/15\n",
      "203/203 - 117s - loss: 0.0152 - accuracy: 0.9982 - val_loss: 0.0126 - val_accuracy: 0.9981\n",
      "Epoch 3/15\n",
      "203/203 - 118s - loss: 0.0093 - accuracy: 0.9989 - val_loss: 0.0027 - val_accuracy: 0.9994\n",
      "Epoch 4/15\n",
      "203/203 - 118s - loss: 0.0112 - accuracy: 0.9983 - val_loss: 0.0075 - val_accuracy: 0.9988\n",
      "Epoch 5/15\n",
      "203/203 - 117s - loss: 0.0079 - accuracy: 0.9989 - val_loss: 0.0316 - val_accuracy: 0.9914\n",
      "51/51 [==============================] - 4s 72ms/step - loss: 0.0027 - accuracy: 0.9994\n",
      "INFO:tensorflow:Assets written to: saved Models\\Model 1\\Run-2\\assets\n",
      "---- Starting trial : run-3\n",
      "{'filter_size': 3, 'filters_number': 96}\n",
      "Epoch 1/15\n",
      "203/203 - 190s - loss: 0.0845 - accuracy: 0.9791 - val_loss: 0.0132 - val_accuracy: 0.9963\n",
      "Epoch 2/15\n",
      "203/203 - 190s - loss: 0.0133 - accuracy: 0.9984 - val_loss: 0.0058 - val_accuracy: 0.9975\n",
      "Epoch 3/15\n",
      "203/203 - 188s - loss: 0.0087 - accuracy: 0.9991 - val_loss: 0.0066 - val_accuracy: 0.9988\n",
      "Epoch 4/15\n",
      "203/203 - 188s - loss: 0.0048 - accuracy: 0.9993 - val_loss: 0.0154 - val_accuracy: 0.9969\n",
      "51/51 [==============================] - 6s 117ms/step - loss: 0.0058 - accuracy: 0.9975\n",
      "INFO:tensorflow:Assets written to: saved Models\\Model 1\\Run-3\\assets\n",
      "---- Starting trial : run-4\n",
      "{'filter_size': 3, 'filters_number': 128}\n",
      "Epoch 1/15\n",
      "203/203 - 279s - loss: 0.0776 - accuracy: 0.9833 - val_loss: 0.0057 - val_accuracy: 0.9994\n",
      "Epoch 2/15\n",
      "203/203 - 274s - loss: 0.0113 - accuracy: 0.9984 - val_loss: 0.0096 - val_accuracy: 0.9957\n",
      "Epoch 3/15\n",
      "203/203 - 274s - loss: 0.0119 - accuracy: 0.9982 - val_loss: 0.0044 - val_accuracy: 0.9988\n",
      "Epoch 4/15\n",
      "203/203 - 273s - loss: 0.0051 - accuracy: 0.9995 - val_loss: 0.0125 - val_accuracy: 0.9975\n",
      "Epoch 5/15\n",
      "203/203 - 275s - loss: 0.0042 - accuracy: 0.9995 - val_loss: 0.0032 - val_accuracy: 0.9994\n",
      "Epoch 6/15\n",
      "203/203 - 289s - loss: 0.0034 - accuracy: 0.9998 - val_loss: 0.0072 - val_accuracy: 0.9988\n",
      "Epoch 7/15\n",
      "203/203 - 274s - loss: 0.0032 - accuracy: 0.9994 - val_loss: 0.0099 - val_accuracy: 0.9969\n",
      "51/51 [==============================] - 9s 171ms/step - loss: 0.0032 - accuracy: 0.9994\n",
      "INFO:tensorflow:Assets written to: saved Models\\Model 1\\Run-4\\assets\n",
      "---- Starting trial : run-5\n",
      "{'filter_size': 5, 'filters_number': 32}\n",
      "Epoch 1/15\n",
      "203/203 - 65s - loss: 0.0869 - accuracy: 0.9742 - val_loss: 0.0123 - val_accuracy: 0.9969\n",
      "Epoch 2/15\n",
      "203/203 - 63s - loss: 0.0143 - accuracy: 0.9982 - val_loss: 0.0036 - val_accuracy: 0.9994\n",
      "Epoch 3/15\n",
      "203/203 - 63s - loss: 0.0101 - accuracy: 0.9992 - val_loss: 0.0063 - val_accuracy: 0.9975\n",
      "Epoch 4/15\n",
      "203/203 - 65s - loss: 0.0085 - accuracy: 0.9988 - val_loss: 0.0049 - val_accuracy: 0.9988\n",
      "51/51 [==============================] - 2s 41ms/step - loss: 0.0036 - accuracy: 0.9994\n",
      "INFO:tensorflow:Assets written to: saved Models\\Model 1\\Run-5\\assets\n",
      "---- Starting trial : run-6\n",
      "{'filter_size': 5, 'filters_number': 64}\n",
      "Epoch 1/15\n",
      "203/203 - 129s - loss: 0.0950 - accuracy: 0.9723 - val_loss: 0.0064 - val_accuracy: 0.9981\n",
      "Epoch 2/15\n",
      "203/203 - 138s - loss: 0.0239 - accuracy: 0.9958 - val_loss: 0.0085 - val_accuracy: 0.9988\n",
      "Epoch 3/15\n",
      "203/203 - 135s - loss: 0.0118 - accuracy: 0.9988 - val_loss: 0.0079 - val_accuracy: 0.9981\n",
      "51/51 [==============================] - 4s 77ms/step - loss: 0.0064 - accuracy: 0.9981\n",
      "INFO:tensorflow:Assets written to: saved Models\\Model 1\\Run-6\\assets\n",
      "---- Starting trial : run-7\n",
      "{'filter_size': 5, 'filters_number': 96}\n",
      "Epoch 1/15\n",
      "203/203 - 210s - loss: 0.0989 - accuracy: 0.9718 - val_loss: 0.0101 - val_accuracy: 0.9969\n",
      "Epoch 2/15\n",
      "203/203 - 214s - loss: 0.0159 - accuracy: 0.9982 - val_loss: 0.0075 - val_accuracy: 0.9981\n",
      "Epoch 3/15\n",
      "203/203 - 228s - loss: 0.0126 - accuracy: 0.9988 - val_loss: 0.0108 - val_accuracy: 0.9975\n",
      "Epoch 4/15\n",
      "203/203 - 239s - loss: 0.0082 - accuracy: 0.9988 - val_loss: 0.0191 - val_accuracy: 0.9969\n",
      "51/51 [==============================] - 7s 134ms/step - loss: 0.0075 - accuracy: 0.9981\n",
      "INFO:tensorflow:Assets written to: saved Models\\Model 1\\Run-7\\assets\n",
      "---- Starting trial : run-8\n",
      "{'filter_size': 5, 'filters_number': 128}\n",
      "Epoch 1/15\n",
      "203/203 - 339s - loss: 0.0955 - accuracy: 0.9748 - val_loss: 0.0176 - val_accuracy: 0.9963\n",
      "Epoch 2/15\n",
      "203/203 - 336s - loss: 0.0200 - accuracy: 0.9968 - val_loss: 0.0032 - val_accuracy: 0.9994\n",
      "Epoch 3/15\n",
      "203/203 - 338s - loss: 0.0283 - accuracy: 0.9924 - val_loss: 0.0064 - val_accuracy: 0.9975\n",
      "Epoch 4/15\n",
      "203/203 - 335s - loss: 0.0131 - accuracy: 0.9987 - val_loss: 0.0049 - val_accuracy: 0.9988\n",
      "51/51 [==============================] - 10s 196ms/step - loss: 0.0032 - accuracy: 0.9994\n",
      "INFO:tensorflow:Assets written to: saved Models\\Model 1\\Run-8\\assets\n",
      "---- Starting trial : run-9\n",
      "{'filter_size': 7, 'filters_number': 32}\n",
      "Epoch 1/15\n",
      "203/203 - 90s - loss: 0.0895 - accuracy: 0.9751 - val_loss: 0.0063 - val_accuracy: 0.9994\n",
      "Epoch 2/15\n",
      "203/203 - 89s - loss: 0.0135 - accuracy: 0.9982 - val_loss: 0.0093 - val_accuracy: 0.9975\n",
      "Epoch 3/15\n",
      "203/203 - 91s - loss: 0.0106 - accuracy: 0.9987 - val_loss: 0.0782 - val_accuracy: 0.9722\n",
      "51/51 [==============================] - 3s 51ms/step - loss: 0.0063 - accuracy: 0.9994\n",
      "INFO:tensorflow:Assets written to: saved Models\\Model 1\\Run-9\\assets\n",
      "---- Starting trial : run-10\n",
      "{'filter_size': 7, 'filters_number': 64}\n",
      "Epoch 1/15\n",
      "203/203 - 179s - loss: 0.0845 - accuracy: 0.9750 - val_loss: 0.0123 - val_accuracy: 0.9988\n",
      "Epoch 2/15\n",
      "203/203 - 174s - loss: 0.0142 - accuracy: 0.9985 - val_loss: 0.0068 - val_accuracy: 0.9981\n",
      "Epoch 3/15\n",
      "203/203 - 174s - loss: 0.0134 - accuracy: 0.9980 - val_loss: 0.0190 - val_accuracy: 0.9932\n",
      "Epoch 4/15\n",
      "203/203 - 174s - loss: 0.0223 - accuracy: 0.9962 - val_loss: 0.0085 - val_accuracy: 0.9975\n",
      "51/51 [==============================] - 5s 97ms/step - loss: 0.0068 - accuracy: 0.9981\n",
      "INFO:tensorflow:Assets written to: saved Models\\Model 1\\Run-10\\assets\n",
      "---- Starting trial : run-11\n",
      "{'filter_size': 7, 'filters_number': 96}\n",
      "Epoch 1/15\n",
      "203/203 - 260s - loss: 0.1407 - accuracy: 0.9601 - val_loss: 0.0120 - val_accuracy: 0.9975\n",
      "Epoch 2/15\n",
      "203/203 - 259s - loss: 0.0153 - accuracy: 0.9982 - val_loss: 0.0069 - val_accuracy: 0.9975\n",
      "Epoch 3/15\n",
      "203/203 - 255s - loss: 0.0210 - accuracy: 0.9961 - val_loss: 0.0062 - val_accuracy: 0.9981\n",
      "Epoch 4/15\n",
      "203/203 - 230s - loss: 0.0132 - accuracy: 0.9981 - val_loss: 0.0135 - val_accuracy: 0.9975\n",
      "Epoch 5/15\n",
      "203/203 - 219s - loss: 0.0073 - accuracy: 0.9992 - val_loss: 0.0063 - val_accuracy: 0.9975\n",
      "51/51 [==============================] - 7s 131ms/step - loss: 0.0062 - accuracy: 0.9981\n",
      "INFO:tensorflow:Assets written to: saved Models\\Model 1\\Run-11\\assets\n",
      "---- Starting trial : run-12\n",
      "{'filter_size': 7, 'filters_number': 128}\n",
      "Epoch 1/15\n",
      "203/203 - 309s - loss: 0.1145 - accuracy: 0.9662 - val_loss: 0.0077 - val_accuracy: 0.9988\n",
      "Epoch 2/15\n",
      "203/203 - 307s - loss: 0.0191 - accuracy: 0.9968 - val_loss: 0.0095 - val_accuracy: 0.9975\n",
      "Epoch 3/15\n",
      "203/203 - 306s - loss: 0.0206 - accuracy: 0.9961 - val_loss: 0.0135 - val_accuracy: 0.9981\n",
      "51/51 [==============================] - 10s 186ms/step - loss: 0.0077 - accuracy: 0.9988\n",
      "INFO:tensorflow:Assets written to: saved Models\\Model 1\\Run-12\\assets\n"
     ]
    }
   ],
   "source": [
    "session_num = 1\n",
    "\n",
    "for filter_size in HP_FILTER_SIZE.domain.values:\n",
    "    for num_filter in HP_NUM_FILTER.domain.values:\n",
    "        \n",
    "        hparams = {\n",
    "            HP_FILTER_SIZE : filter_size,\n",
    "            HP_NUM_FILTER : num_filter\n",
    "        }\n",
    "        \n",
    "        run_name = 'run-%d' %session_num\n",
    "        print('---- Starting trial : %s' % run_name)\n",
    "        print({h.name: hparams[h] for h in hparams})\n",
    "        run('Logs/Model 1/hparam_tuning/' +run_name, hparams, session_num)\n",
    "        \n",
    "        session_num += 1"
   ]
  },
  {
   "cell_type": "code",
   "execution_count": 28,
   "metadata": {},
   "outputs": [],
   "source": [
    "model = tf.keras.models.load_model(r\"saved models\\Model 1\\Run-1\")"
   ]
  },
  {
   "cell_type": "code",
   "execution_count": 29,
   "metadata": {},
   "outputs": [
    {
     "name": "stdout",
     "output_type": "stream",
     "text": [
      "51/51 [==============================] - 2s 33ms/step - loss: 0.0208 - accuracy: 0.9975\n"
     ]
    }
   ],
   "source": [
    "test_loss, test_accuracy = model.evaluate(test_images,test_labels)"
   ]
  },
  {
   "cell_type": "code",
   "execution_count": 30,
   "metadata": {},
   "outputs": [
    {
     "name": "stdout",
     "output_type": "stream",
     "text": [
      "Test loss: 0.0208. Test accuracy: 99.75%\n"
     ]
    }
   ],
   "source": [
    "# Printing the test results\n",
    "print('Test loss: {0:.4f}. Test accuracy: {1:.2f}%'.format(test_loss, test_accuracy*100.))"
   ]
  },
  {
   "cell_type": "code",
   "execution_count": 31,
   "metadata": {},
   "outputs": [
    {
     "data": {
      "text/html": [
       "\n",
       "      <iframe id=\"tensorboard-frame-83e2cd63acfec096\" width=\"100%\" height=\"800\" frameborder=\"0\">\n",
       "      </iframe>\n",
       "      <script>\n",
       "        (function() {\n",
       "          const frame = document.getElementById(\"tensorboard-frame-83e2cd63acfec096\");\n",
       "          const url = new URL(\"/\", window.location);\n",
       "          const port = 6006;\n",
       "          if (port) {\n",
       "            url.port = port;\n",
       "          }\n",
       "          frame.src = url;\n",
       "        })();\n",
       "      </script>\n",
       "    "
      ],
      "text/plain": [
       "<IPython.core.display.HTML object>"
      ]
     },
     "metadata": {},
     "output_type": "display_data"
    }
   ],
   "source": [
    "%load_ext tensorboard\n",
    "%tensorboard --logdir \"Logs/Model 1/hparam_tuning\""
   ]
  },
  {
   "cell_type": "code",
   "execution_count": 33,
   "metadata": {},
   "outputs": [
    {
     "name": "stdout",
     "output_type": "stream",
     "text": [
      "The tensorboard extension is already loaded. To reload it, use:\n",
      "  %reload_ext tensorboard\n"
     ]
    },
    {
     "data": {
      "text/html": [
       "\n",
       "      <iframe id=\"tensorboard-frame-70a15db2552e53df\" width=\"100%\" height=\"800\" frameborder=\"0\">\n",
       "      </iframe>\n",
       "      <script>\n",
       "        (function() {\n",
       "          const frame = document.getElementById(\"tensorboard-frame-70a15db2552e53df\");\n",
       "          const url = new URL(\"/\", window.location);\n",
       "          const port = 6006;\n",
       "          if (port) {\n",
       "            url.port = port;\n",
       "          }\n",
       "          frame.src = url;\n",
       "        })();\n",
       "      </script>\n",
       "    "
      ],
      "text/plain": [
       "<IPython.core.display.HTML object>"
      ]
     },
     "metadata": {},
     "output_type": "display_data"
    }
   ],
   "source": [
    "%load_ext tensorboard\n",
    "%tensorboard --logdir \"Logs/Model 1/fit\""
   ]
  },
  {
   "cell_type": "code",
   "execution_count": null,
   "metadata": {},
   "outputs": [],
   "source": []
  }
 ],
 "metadata": {
  "kernelspec": {
   "display_name": "Python 3",
   "language": "python",
   "name": "python3"
  },
  "language_info": {
   "codemirror_mode": {
    "name": "ipython",
    "version": 3
   },
   "file_extension": ".py",
   "mimetype": "text/x-python",
   "name": "python",
   "nbconvert_exporter": "python",
   "pygments_lexer": "ipython3",
   "version": "3.8.5"
  }
 },
 "nbformat": 4,
 "nbformat_minor": 4
}
